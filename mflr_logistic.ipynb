{
  "nbformat": 4,
  "nbformat_minor": 0,
  "metadata": {
    "colab": {
      "provenance": [],
      "authorship_tag": "ABX9TyN3n0AkPd8AKlPKqAMKmCUI",
      "include_colab_link": true
    },
    "kernelspec": {
      "name": "python3",
      "display_name": "Python 3"
    },
    "language_info": {
      "name": "python"
    }
  },
  "cells": [
    {
      "cell_type": "markdown",
      "metadata": {
        "id": "view-in-github",
        "colab_type": "text"
      },
      "source": [
        "<a href=\"https://colab.research.google.com/github/roberthsheng/100pgml/blob/main/mflr_logistic.ipynb\" target=\"_parent\"><img src=\"https://colab.research.google.com/assets/colab-badge.svg\" alt=\"Open In Colab\"/></a>"
      ]
    },
    {
      "cell_type": "markdown",
      "source": [
        "Multi-feature Linear Regression"
      ],
      "metadata": {
        "id": "7V_ab139ZD4k"
      }
    },
    {
      "cell_type": "code",
      "source": [
        "import numpy as np\n",
        "import matplotlib.pyplot as plt\n",
        "import time"
      ],
      "metadata": {
        "id": "ag6Ur-_BZQQC"
      },
      "execution_count": 6,
      "outputs": []
    },
    {
      "cell_type": "code",
      "execution_count": 3,
      "metadata": {
        "id": "LGZbpArdY94V"
      },
      "outputs": [],
      "source": [
        "np.random.seed(42)\n",
        "N = 100\n",
        "X = np.random.randn(N, 3)\n",
        "true_w = np.array([2.0, -1.0, 0.5])\n",
        "true_b = 3.0\n",
        "y = X @ true_w + true_b + np.random.randn(N) * 0.1"
      ]
    },
    {
      "cell_type": "code",
      "source": [
        "def matrix_mse(X, y, w, b):\n",
        "  return np.mean((X @ w + b - y) ** 2)\n",
        "\n",
        "def matrix_grad(X, y, w, b):\n",
        "  N = X.shape[0]\n",
        "  error = X @ w + b - y\n",
        "  grad_w = 2 * (X.T @ error) / N\n",
        "  grad_b = 2 * np.mean(error)\n",
        "  return grad_w, grad_b\n",
        "\n",
        "def train(X, y, lr, epochs):\n",
        "  N, D = X.shape\n",
        "  w = np.zeros(D)\n",
        "  b = 0.0\n",
        "  losses = []\n",
        "  for epoch in range(epochs):\n",
        "    loss = matrix_mse(X, y, w, b)\n",
        "    losses.append(loss)\n",
        "    grad_w, grad_b = matrix_grad(X, y, w, b)\n",
        "    w -= lr * grad_w\n",
        "    b -= lr * grad_b\n",
        "  return w, b, losses"
      ],
      "metadata": {
        "id": "tO5jDrekZJ8M"
      },
      "execution_count": 4,
      "outputs": []
    },
    {
      "cell_type": "code",
      "source": [
        "lr = 0.01\n",
        "epochs = 1000\n",
        "w, b, losses = train(X, y, lr, epochs)\n",
        "\n",
        "print(\"Learned weights:\", w)\n",
        "print(\"True weights:\", true_w)\n",
        "print(\"Learned bias:\", b)\n",
        "print(\"True bias:\", true_b)\n",
        "\n",
        "plt.plot(losses)\n",
        "plt.xlabel('Epoch')\n",
        "plt.ylabel('MSE Loss')\n",
        "plt.title('Training Loss Over Time')\n",
        "plt.show()"
      ],
      "metadata": {
        "colab": {
          "base_uri": "https://localhost:8080/",
          "height": 543
        },
        "id": "NM5Dt7rdatCy",
        "outputId": "1af6aa15-1a01-4b32-e630-f5a502c80e3d"
      },
      "execution_count": 5,
      "outputs": [
        {
          "output_type": "stream",
          "name": "stdout",
          "text": [
            "Learned weights: [ 1.99223008 -1.00499694  0.48923982]\n",
            "True weights: [ 2.  -1.   0.5]\n",
            "Learned bias: 3.011286965363195\n",
            "True bias: 3.0\n"
          ]
        },
        {
          "output_type": "display_data",
          "data": {
            "text/plain": [
              "<Figure size 640x480 with 1 Axes>"
            ],
            "image/png": "[encoded data removed]"
          },
          "metadata": {}
        }
      ]
    },
    {
      "cell_type": "code",
      "source": [
        "def matrix_mse_reg(X, y, w, b, reg):\n",
        "  return np.mean((X @ w + b - y) ** 2) + reg * np.sum(w ** 2)\n",
        "\n",
        "def matrix_grad_reg(X, y, w, b, reg):\n",
        "  N = X.shape[0]\n",
        "  error = X @ w + b - y\n",
        "  grad_w = 2 * (X.T @ error) / N + 2 * reg * w\n",
        "  grad_b = 2 * np.mean(error)\n",
        "  return grad_w, grad_b\n",
        "\n",
        "def train_reg(X, y, lr, epochs, reg):\n",
        "  N, D = X.shape\n",
        "  w = np.zeros(D)\n",
        "  b = 0\n",
        "  losses = []\n",
        "  for epoch in range(epochs):\n",
        "    loss = matrix_mse_reg(X, y, w, b, reg)\n",
        "    losses.append(loss)\n",
        "    grad_w, grad_b = matrix_grad\n",
        "    w -= lr * grad_w\n",
        "    b -= lr * grad_b\n",
        "  return w, b, losses\n",
        "\n",
        "def train_minibatch(X, y, lr, epochs, batch_size=32, reg=0.1):\n",
        "  N, D = X.shape\n",
        "  w = np.zeros(D)\n",
        "  b = 0\n",
        "  losses = []\n",
        "  for epoch in range(epochs):\n",
        "    indices = np.random.permutation(N)\n",
        "    X = X[indices]\n",
        "    y = y[indices]\n",
        "    for i in range(0, N, batch_size):\n",
        "      X_batch = X[i:i+batch_size]\n",
        "      y_batch = y[i:i+batch_size]\n",
        "      grad_w, grad_b = matrix_grad_reg(X_batch, y_batch, w, b, reg)\n",
        "      w -= lr * grad_w\n",
        "      b -= lr * grad_b\n",
        "    loss = matrix_mse_reg(X, y, w, b, reg)\n",
        "    losses.append(loss)\n",
        "\n",
        "  return w, b, losses\n",
        "\n",
        "def train_with_early_stopping(X, y, X_val, y_val, lr, epochs, patience=5, batch_size=32):\n",
        "    N, D = X.shape\n",
        "    w = np.zeros(D)\n",
        "    b = 0.0\n",
        "    best_val_loss = float('inf')\n",
        "    patience_counter = 0\n",
        "    best_w, best_b = w, b\n",
        "\n",
        "    for epoch in range(epochs):\n",
        "        w, b, _ = train_minibatch(X, y, lr, 1, batch_size)\n",
        "\n",
        "        val_loss = matrix_mse(X_val, y_val, w, b)\n",
        "\n",
        "        if val_loss < best_val_loss:\n",
        "            best_val_loss = val_loss\n",
        "            best_w, best_b = w, b\n",
        "            patience_counter = 0\n",
        "        else:\n",
        "            patience_counter += 1\n",
        "\n",
        "        if patience_counter >= patience:\n",
        "            print(f\"Early stopping at epoch {epoch}\")\n",
        "            break\n",
        "\n",
        "    return best_w, best_b"
      ],
      "metadata": {
        "id": "Ul7Wd7UqbcKh"
      },
      "execution_count": 8,
      "outputs": []
    },
    {
      "cell_type": "code",
      "source": [
        "np.random.seed(42)\n",
        "N_train = 1000\n",
        "N_val = 200\n",
        "X_train = np.random.randn(N_train, 3)\n",
        "X_val = np.random.randn(N_val, 3)\n",
        "true_w = np.array([2.0, -1.0, 0.5])\n",
        "true_b = 3.0\n",
        "\n",
        "y_train = X_train @ true_w + true_b + np.random.randn(N_train) * 0.5\n",
        "y_val = X_val @ true_w + true_b + np.random.randn(N_val) * 0.5\n",
        "\n",
        "# Comparing batch sizes\n",
        "batch_sizes = [1, 32, 128, N_train]  # last one is full batch\n",
        "for batch_size in batch_sizes:\n",
        "    start_time = time.time()\n",
        "    w, b, losses = train_minibatch(X_train, y_train, lr=0.01, epochs=100,\n",
        "                                  batch_size=batch_size)\n",
        "    time_taken = time.time() - start_time\n",
        "    final_loss = losses[-1]\n",
        "    print(f\"Batch size {batch_size}: Time = {time_taken:.2f}s, Final loss = {final_loss:.4f}\")\n",
        "\n",
        "# Early stopping vs no early stopping\n",
        "print(\"\\nWith Early Stopping:\")\n",
        "w_early, b_early = train_with_early_stopping(X_train, y_train, X_val, y_val,\n",
        "                                           lr=0.01, epochs=1000, patience=5)\n",
        "\n",
        "print(\"\\nWithout Early Stopping:\")\n",
        "w_full, b_full = train_minibatch(X_train, y_train, lr=0.01, epochs=1000)[:2]\n",
        "\n",
        "# Comparing validation performance\n",
        "val_loss_early = matrix_mse(X_val, y_val, w_early, b_early)\n",
        "val_loss_full = matrix_mse(X_val, y_val, w_full, b_full)\n",
        "print(f\"Validation Loss with early stopping: {val_loss_early:.4f}\")\n",
        "print(f\"Validation Loss without early stopping: {val_loss_full:.4f}\")\n",
        "\n",
        "# Production-style training\n",
        "def production_training(X_train, y_train, X_val, y_val):\n",
        "    return train_with_early_stopping(\n",
        "        X_train, y_train, X_val, y_val,\n",
        "        lr=0.01,\n",
        "        epochs=1000,\n",
        "        patience=5,\n",
        "        batch_size=32\n",
        "    )\n",
        "\n",
        "w_prod, b_prod = production_training(X_train, y_train, X_val, y_val)\n",
        "print(\"\\nProduction model performance:\")\n",
        "print(\"Train loss:\", matrix_mse(X_train, y_train, w_prod, b_prod))\n",
        "print(\"Val loss:\", matrix_mse(X_val, y_val, w_prod, b_prod))\n",
        "print(\"Learned weights:\", w_prod)\n",
        "print(\"True weights:\", true_w)"
      ],
      "metadata": {
        "colab": {
          "base_uri": "https://localhost:8080/"
        },
        "id": "emjYOq75cxK0",
        "outputId": "74c4ad0b-1576-46d7-89f1-69df36dc995b"
      },
      "execution_count": 9,
      "outputs": [
        {
          "output_type": "stream",
          "name": "stdout",
          "text": [
            "Batch size 1: Time = 2.27s, Final loss = 0.7414\n",
            "Batch size 32: Time = 0.09s, Final loss = 0.7200\n",
            "Batch size 128: Time = 0.03s, Final loss = 0.7199\n",
            "Batch size 1000: Time = 0.01s, Final loss = 0.9026\n",
            "\n",
            "With Early Stopping:\n",
            "Early stopping at epoch 12\n",
            "\n",
            "Without Early Stopping:\n",
            "Validation Loss with early stopping: 3.9813\n",
            "Validation Loss without early stopping: 0.3224\n",
            "Early stopping at epoch 10\n",
            "\n",
            "Production model performance:\n",
            "Train loss: 4.082712630162875\n",
            "Val loss: 4.0479090813859155\n",
            "Learned weights: [ 0.96769847 -0.49778351  0.24485234]\n",
            "True weights: [ 2.  -1.   0.5]\n"
          ]
        }
      ]
    },
    {
      "cell_type": "markdown",
      "source": [
        "Logistic Regression"
      ],
      "metadata": {
        "id": "KKBYT-fhemH4"
      }
    },
    {
      "cell_type": "code",
      "source": [
        "np.random.seed(42)\n",
        "N = 100\n",
        "X = np.random.randn(N, 2)\n",
        "y = (X[:, 0] + X[:, 1] > 0).astype(float)\n",
        "\n",
        "def sigmoid(z):\n",
        "  return 1 / (1 + np.exp(-z))\n",
        "\n",
        "def forward(X, w, b):\n",
        "  return sigmoid(X @ w + b)\n",
        "\n",
        "def BCE(y_true, y_pred):\n",
        "  return -np.mean(y_true * np.log(y_pred) + (1 - y_true) * np.log(1 - y_pred))\n",
        "\n",
        "def gradients(X, y, y_pred):\n",
        "  m = X.shape[0]\n",
        "  dw = (1 / m) * X.T @ (y_pred - y)\n",
        "  db = (1 / m) * np.sum(y_pred - y)\n",
        "  return dw, db\n",
        "\n",
        "def train_logistic(X, y, lr=0.1, epochs=1000):\n",
        "  N, D = X.shape\n",
        "  w = np.zeros(D)\n",
        "  b = 0.0\n",
        "  losses = []\n",
        "  for epoch in range(epochs):\n",
        "    y_pred = forward(X, w, b)\n",
        "    loss = BCE(y, y_pred)\n",
        "    losses.append(loss)\n",
        "    dw, db = gradients(X, y, y_pred)\n",
        "    w -= lr * dw\n",
        "    b -= lr * db\n",
        "    if epoch % 100 == 0:\n",
        "      print(f\"Epoch {epoch}, Loss: {loss:.4f}\")\n",
        "  return w, b, losses\n",
        "\n",
        "w, b, losses = train_logistic(X, y)\n",
        "plt.figure(figsize=(10, 6))\n",
        "plt.scatter(X[y==0][:, 0], X[y==0][:, 1], label='Class 0')\n",
        "plt.scatter(X[y==1][:, 0], X[y==1][:, 1], label='Class 1')\n",
        "\n",
        "x1 = np.linspace(X[:, 0].min(), X[:, 0].max(), 100)\n",
        "x2 = -(w[0] * x1 + b) / w[1]\n",
        "plt.plot(x1, x2, 'r-', label='Decision Boundary')\n",
        "\n",
        "plt.xlabel('Feature 1')\n",
        "plt.ylabel('Feature 2')\n",
        "plt.legend()\n",
        "plt.show()"
      ],
      "metadata": {
        "colab": {
          "base_uri": "https://localhost:8080/",
          "height": 675
        },
        "id": "t8ii6LEhen6S",
        "outputId": "a6c6f72a-2168-4ac2-cf64-06829584dbae"
      },
      "execution_count": 10,
      "outputs": [
        {
          "output_type": "stream",
          "name": "stdout",
          "text": [
            "Epoch 0, Loss: 0.6931\n",
            "Epoch 100, Loss: 0.2733\n",
            "Epoch 200, Loss: 0.2088\n",
            "Epoch 300, Loss: 0.1790\n",
            "Epoch 400, Loss: 0.1607\n",
            "Epoch 500, Loss: 0.1479\n",
            "Epoch 600, Loss: 0.1383\n",
            "Epoch 700, Loss: 0.1307\n",
            "Epoch 800, Loss: 0.1245\n",
            "Epoch 900, Loss: 0.1192\n"
          ]
        },
        {
          "output_type": "display_data",
          "data": {
            "text/plain": [
              "<Figure size 1000x600 with 1 Axes>"
            ],
            "image/png": "[encoded data removed]"
          },
          "metadata": {}
        }
      ]
    },
    {
      "cell_type": "code",
      "source": [],
      "metadata": {
        "id": "K_FC_bWifYPb"
      },
      "execution_count": null,
      "outputs": []
    }
  ]
}